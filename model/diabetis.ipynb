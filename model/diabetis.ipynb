{
 "cells": [
  {
   "cell_type": "code",
   "execution_count": 1,
   "id": "e07b52e0",
   "metadata": {},
   "outputs": [],
   "source": [
    "import numpy as np\n",
    "import pandas as pd\n",
    "import pickle\n",
    "import json\n",
    "\n",
    "from sklearn.linear_model import LogisticRegression\n",
    "from sklearn.model_selection import train_test_split\n",
    "\n",
    "from sklearn.metrics import confusion_matrix, classification_report, accuracy_score\n",
    "from sklearn.metrics import precision_score, recall_score, f1_score\n",
    "from sklearn.metrics import plot_confusion_matrix\n",
    "from sklearn.metrics import roc_curve,roc_auc_score\n",
    "\n",
    "import matplotlib.pyplot as plt\n",
    "import seaborn as sns\n",
    "\n",
    "import warnings\n",
    "warnings.filterwarnings(\"ignore\")"
   ]
  },
  {
   "cell_type": "markdown",
   "id": "678cc9e2",
   "metadata": {},
   "source": [
    "## Define Problem Statement"
   ]
  },
  {
   "cell_type": "code",
   "execution_count": null,
   "id": "d71c6d21",
   "metadata": {},
   "outputs": [],
   "source": [
    "To check whether paitient having Diabetes or Not"
   ]
  },
  {
   "cell_type": "markdown",
   "id": "af5f8944",
   "metadata": {},
   "source": [
    "## Data Gathering "
   ]
  },
  {
   "cell_type": "code",
   "execution_count": 3,
   "id": "3ddbb194",
   "metadata": {},
   "outputs": [
    {
     "data": {
      "text/html": [
       "<div>\n",
       "<style scoped>\n",
       "    .dataframe tbody tr th:only-of-type {\n",
       "        vertical-align: middle;\n",
       "    }\n",
       "\n",
       "    .dataframe tbody tr th {\n",
       "        vertical-align: top;\n",
       "    }\n",
       "\n",
       "    .dataframe thead th {\n",
       "        text-align: right;\n",
       "    }\n",
       "</style>\n",
       "<table border=\"1\" class=\"dataframe\">\n",
       "  <thead>\n",
       "    <tr style=\"text-align: right;\">\n",
       "      <th></th>\n",
       "      <th>Pregnancies</th>\n",
       "      <th>Glucose</th>\n",
       "      <th>BloodPressure</th>\n",
       "      <th>SkinThickness</th>\n",
       "      <th>Insulin</th>\n",
       "      <th>BMI</th>\n",
       "      <th>DiabetesPedigreeFunction</th>\n",
       "      <th>Age</th>\n",
       "      <th>Outcome</th>\n",
       "    </tr>\n",
       "  </thead>\n",
       "  <tbody>\n",
       "    <tr>\n",
       "      <th>0</th>\n",
       "      <td>6</td>\n",
       "      <td>148</td>\n",
       "      <td>72</td>\n",
       "      <td>35</td>\n",
       "      <td>0</td>\n",
       "      <td>33.6</td>\n",
       "      <td>0.627</td>\n",
       "      <td>50</td>\n",
       "      <td>1</td>\n",
       "    </tr>\n",
       "    <tr>\n",
       "      <th>1</th>\n",
       "      <td>1</td>\n",
       "      <td>85</td>\n",
       "      <td>66</td>\n",
       "      <td>29</td>\n",
       "      <td>0</td>\n",
       "      <td>26.6</td>\n",
       "      <td>0.351</td>\n",
       "      <td>31</td>\n",
       "      <td>0</td>\n",
       "    </tr>\n",
       "    <tr>\n",
       "      <th>2</th>\n",
       "      <td>8</td>\n",
       "      <td>183</td>\n",
       "      <td>64</td>\n",
       "      <td>0</td>\n",
       "      <td>0</td>\n",
       "      <td>23.3</td>\n",
       "      <td>0.672</td>\n",
       "      <td>32</td>\n",
       "      <td>1</td>\n",
       "    </tr>\n",
       "    <tr>\n",
       "      <th>3</th>\n",
       "      <td>1</td>\n",
       "      <td>89</td>\n",
       "      <td>66</td>\n",
       "      <td>23</td>\n",
       "      <td>94</td>\n",
       "      <td>28.1</td>\n",
       "      <td>0.167</td>\n",
       "      <td>21</td>\n",
       "      <td>0</td>\n",
       "    </tr>\n",
       "    <tr>\n",
       "      <th>4</th>\n",
       "      <td>0</td>\n",
       "      <td>137</td>\n",
       "      <td>40</td>\n",
       "      <td>35</td>\n",
       "      <td>168</td>\n",
       "      <td>43.1</td>\n",
       "      <td>2.288</td>\n",
       "      <td>33</td>\n",
       "      <td>1</td>\n",
       "    </tr>\n",
       "    <tr>\n",
       "      <th>...</th>\n",
       "      <td>...</td>\n",
       "      <td>...</td>\n",
       "      <td>...</td>\n",
       "      <td>...</td>\n",
       "      <td>...</td>\n",
       "      <td>...</td>\n",
       "      <td>...</td>\n",
       "      <td>...</td>\n",
       "      <td>...</td>\n",
       "    </tr>\n",
       "    <tr>\n",
       "      <th>763</th>\n",
       "      <td>10</td>\n",
       "      <td>101</td>\n",
       "      <td>76</td>\n",
       "      <td>48</td>\n",
       "      <td>180</td>\n",
       "      <td>32.9</td>\n",
       "      <td>0.171</td>\n",
       "      <td>63</td>\n",
       "      <td>0</td>\n",
       "    </tr>\n",
       "    <tr>\n",
       "      <th>764</th>\n",
       "      <td>2</td>\n",
       "      <td>122</td>\n",
       "      <td>70</td>\n",
       "      <td>27</td>\n",
       "      <td>0</td>\n",
       "      <td>36.8</td>\n",
       "      <td>0.340</td>\n",
       "      <td>27</td>\n",
       "      <td>0</td>\n",
       "    </tr>\n",
       "    <tr>\n",
       "      <th>765</th>\n",
       "      <td>5</td>\n",
       "      <td>121</td>\n",
       "      <td>72</td>\n",
       "      <td>23</td>\n",
       "      <td>112</td>\n",
       "      <td>26.2</td>\n",
       "      <td>0.245</td>\n",
       "      <td>30</td>\n",
       "      <td>0</td>\n",
       "    </tr>\n",
       "    <tr>\n",
       "      <th>766</th>\n",
       "      <td>1</td>\n",
       "      <td>126</td>\n",
       "      <td>60</td>\n",
       "      <td>0</td>\n",
       "      <td>0</td>\n",
       "      <td>30.1</td>\n",
       "      <td>0.349</td>\n",
       "      <td>47</td>\n",
       "      <td>1</td>\n",
       "    </tr>\n",
       "    <tr>\n",
       "      <th>767</th>\n",
       "      <td>1</td>\n",
       "      <td>93</td>\n",
       "      <td>70</td>\n",
       "      <td>31</td>\n",
       "      <td>0</td>\n",
       "      <td>30.4</td>\n",
       "      <td>0.315</td>\n",
       "      <td>23</td>\n",
       "      <td>0</td>\n",
       "    </tr>\n",
       "  </tbody>\n",
       "</table>\n",
       "<p>768 rows × 9 columns</p>\n",
       "</div>"
      ],
      "text/plain": [
       "     Pregnancies  Glucose  BloodPressure  SkinThickness  Insulin   BMI  \\\n",
       "0              6      148             72             35        0  33.6   \n",
       "1              1       85             66             29        0  26.6   \n",
       "2              8      183             64              0        0  23.3   \n",
       "3              1       89             66             23       94  28.1   \n",
       "4              0      137             40             35      168  43.1   \n",
       "..           ...      ...            ...            ...      ...   ...   \n",
       "763           10      101             76             48      180  32.9   \n",
       "764            2      122             70             27        0  36.8   \n",
       "765            5      121             72             23      112  26.2   \n",
       "766            1      126             60              0        0  30.1   \n",
       "767            1       93             70             31        0  30.4   \n",
       "\n",
       "     DiabetesPedigreeFunction  Age  Outcome  \n",
       "0                       0.627   50        1  \n",
       "1                       0.351   31        0  \n",
       "2                       0.672   32        1  \n",
       "3                       0.167   21        0  \n",
       "4                       2.288   33        1  \n",
       "..                        ...  ...      ...  \n",
       "763                     0.171   63        0  \n",
       "764                     0.340   27        0  \n",
       "765                     0.245   30        0  \n",
       "766                     0.349   47        1  \n",
       "767                     0.315   23        0  \n",
       "\n",
       "[768 rows x 9 columns]"
      ]
     },
     "execution_count": 3,
     "metadata": {},
     "output_type": "execute_result"
    }
   ],
   "source": [
    "df=pd.read_csv(\"diabetes.csv\")\n",
    "df"
   ]
  },
  {
   "cell_type": "markdown",
   "id": "6a8bfa9f",
   "metadata": {},
   "source": [
    "## EDA"
   ]
  },
  {
   "cell_type": "markdown",
   "id": "ec8c4812",
   "metadata": {},
   "source": [
    "## A. Understand Our Data"
   ]
  },
  {
   "cell_type": "code",
   "execution_count": 4,
   "id": "a444f3f5",
   "metadata": {},
   "outputs": [],
   "source": [
    "### How big is our data is"
   ]
  },
  {
   "cell_type": "code",
   "execution_count": 5,
   "id": "afac864f",
   "metadata": {},
   "outputs": [
    {
     "data": {
      "text/plain": [
       "(768, 9)"
      ]
     },
     "execution_count": 5,
     "metadata": {},
     "output_type": "execute_result"
    }
   ],
   "source": [
    "df.shape"
   ]
  },
  {
   "cell_type": "code",
   "execution_count": null,
   "id": "55d68b2e",
   "metadata": {},
   "outputs": [],
   "source": [
    "### Get Overview of data"
   ]
  },
  {
   "cell_type": "code",
   "execution_count": 3,
   "id": "fbaf670a",
   "metadata": {},
   "outputs": [
    {
     "name": "stdout",
     "output_type": "stream",
     "text": [
      "<class 'pandas.core.frame.DataFrame'>\n",
      "RangeIndex: 768 entries, 0 to 767\n",
      "Data columns (total 9 columns):\n",
      " #   Column                    Non-Null Count  Dtype  \n",
      "---  ------                    --------------  -----  \n",
      " 0   Pregnancies               768 non-null    int64  \n",
      " 1   Glucose                   768 non-null    int64  \n",
      " 2   BloodPressure             768 non-null    int64  \n",
      " 3   SkinThickness             768 non-null    int64  \n",
      " 4   Insulin                   768 non-null    int64  \n",
      " 5   BMI                       768 non-null    float64\n",
      " 6   DiabetesPedigreeFunction  768 non-null    float64\n",
      " 7   Age                       768 non-null    int64  \n",
      " 8   Outcome                   768 non-null    int64  \n",
      "dtypes: float64(2), int64(7)\n",
      "memory usage: 54.1 KB\n"
     ]
    }
   ],
   "source": [
    "df.info()"
   ]
  },
  {
   "cell_type": "code",
   "execution_count": null,
   "id": "34eea813",
   "metadata": {},
   "outputs": [],
   "source": [
    "### Check for missing values"
   ]
  },
  {
   "cell_type": "code",
   "execution_count": 6,
   "id": "e3742a0b",
   "metadata": {},
   "outputs": [
    {
     "data": {
      "text/plain": [
       "Pregnancies                 0\n",
       "Glucose                     0\n",
       "BloodPressure               0\n",
       "SkinThickness               0\n",
       "Insulin                     0\n",
       "BMI                         0\n",
       "DiabetesPedigreeFunction    0\n",
       "Age                         0\n",
       "Outcome                     0\n",
       "dtype: int64"
      ]
     },
     "execution_count": 6,
     "metadata": {},
     "output_type": "execute_result"
    }
   ],
   "source": [
    "df.isna().sum()"
   ]
  },
  {
   "cell_type": "code",
   "execution_count": null,
   "id": "5774c2f2",
   "metadata": {},
   "outputs": [],
   "source": [
    "### Check for Duplicate data"
   ]
  },
  {
   "cell_type": "code",
   "execution_count": 7,
   "id": "143848c5",
   "metadata": {},
   "outputs": [
    {
     "data": {
      "text/plain": [
       "0"
      ]
     },
     "execution_count": 7,
     "metadata": {},
     "output_type": "execute_result"
    }
   ],
   "source": [
    "df.duplicated().sum()"
   ]
  },
  {
   "cell_type": "code",
   "execution_count": null,
   "id": "02b4cad5",
   "metadata": {},
   "outputs": [],
   "source": [
    "### How data looks mathematically"
   ]
  },
  {
   "cell_type": "code",
   "execution_count": 5,
   "id": "6aecd82e",
   "metadata": {},
   "outputs": [
    {
     "data": {
      "text/html": [
       "<div>\n",
       "<style scoped>\n",
       "    .dataframe tbody tr th:only-of-type {\n",
       "        vertical-align: middle;\n",
       "    }\n",
       "\n",
       "    .dataframe tbody tr th {\n",
       "        vertical-align: top;\n",
       "    }\n",
       "\n",
       "    .dataframe thead th {\n",
       "        text-align: right;\n",
       "    }\n",
       "</style>\n",
       "<table border=\"1\" class=\"dataframe\">\n",
       "  <thead>\n",
       "    <tr style=\"text-align: right;\">\n",
       "      <th></th>\n",
       "      <th>Pregnancies</th>\n",
       "      <th>Glucose</th>\n",
       "      <th>BloodPressure</th>\n",
       "      <th>SkinThickness</th>\n",
       "      <th>Insulin</th>\n",
       "      <th>BMI</th>\n",
       "      <th>DiabetesPedigreeFunction</th>\n",
       "      <th>Age</th>\n",
       "      <th>Outcome</th>\n",
       "    </tr>\n",
       "  </thead>\n",
       "  <tbody>\n",
       "    <tr>\n",
       "      <th>count</th>\n",
       "      <td>768.000000</td>\n",
       "      <td>768.000000</td>\n",
       "      <td>768.000000</td>\n",
       "      <td>768.000000</td>\n",
       "      <td>768.000000</td>\n",
       "      <td>768.000000</td>\n",
       "      <td>768.000000</td>\n",
       "      <td>768.000000</td>\n",
       "      <td>768.000000</td>\n",
       "    </tr>\n",
       "    <tr>\n",
       "      <th>mean</th>\n",
       "      <td>3.845052</td>\n",
       "      <td>120.894531</td>\n",
       "      <td>69.105469</td>\n",
       "      <td>20.536458</td>\n",
       "      <td>79.799479</td>\n",
       "      <td>31.992578</td>\n",
       "      <td>0.471876</td>\n",
       "      <td>33.240885</td>\n",
       "      <td>0.348958</td>\n",
       "    </tr>\n",
       "    <tr>\n",
       "      <th>std</th>\n",
       "      <td>3.369578</td>\n",
       "      <td>31.972618</td>\n",
       "      <td>19.355807</td>\n",
       "      <td>15.952218</td>\n",
       "      <td>115.244002</td>\n",
       "      <td>7.884160</td>\n",
       "      <td>0.331329</td>\n",
       "      <td>11.760232</td>\n",
       "      <td>0.476951</td>\n",
       "    </tr>\n",
       "    <tr>\n",
       "      <th>min</th>\n",
       "      <td>0.000000</td>\n",
       "      <td>0.000000</td>\n",
       "      <td>0.000000</td>\n",
       "      <td>0.000000</td>\n",
       "      <td>0.000000</td>\n",
       "      <td>0.000000</td>\n",
       "      <td>0.078000</td>\n",
       "      <td>21.000000</td>\n",
       "      <td>0.000000</td>\n",
       "    </tr>\n",
       "    <tr>\n",
       "      <th>25%</th>\n",
       "      <td>1.000000</td>\n",
       "      <td>99.000000</td>\n",
       "      <td>62.000000</td>\n",
       "      <td>0.000000</td>\n",
       "      <td>0.000000</td>\n",
       "      <td>27.300000</td>\n",
       "      <td>0.243750</td>\n",
       "      <td>24.000000</td>\n",
       "      <td>0.000000</td>\n",
       "    </tr>\n",
       "    <tr>\n",
       "      <th>50%</th>\n",
       "      <td>3.000000</td>\n",
       "      <td>117.000000</td>\n",
       "      <td>72.000000</td>\n",
       "      <td>23.000000</td>\n",
       "      <td>30.500000</td>\n",
       "      <td>32.000000</td>\n",
       "      <td>0.372500</td>\n",
       "      <td>29.000000</td>\n",
       "      <td>0.000000</td>\n",
       "    </tr>\n",
       "    <tr>\n",
       "      <th>75%</th>\n",
       "      <td>6.000000</td>\n",
       "      <td>140.250000</td>\n",
       "      <td>80.000000</td>\n",
       "      <td>32.000000</td>\n",
       "      <td>127.250000</td>\n",
       "      <td>36.600000</td>\n",
       "      <td>0.626250</td>\n",
       "      <td>41.000000</td>\n",
       "      <td>1.000000</td>\n",
       "    </tr>\n",
       "    <tr>\n",
       "      <th>max</th>\n",
       "      <td>17.000000</td>\n",
       "      <td>199.000000</td>\n",
       "      <td>122.000000</td>\n",
       "      <td>99.000000</td>\n",
       "      <td>846.000000</td>\n",
       "      <td>67.100000</td>\n",
       "      <td>2.420000</td>\n",
       "      <td>81.000000</td>\n",
       "      <td>1.000000</td>\n",
       "    </tr>\n",
       "  </tbody>\n",
       "</table>\n",
       "</div>"
      ],
      "text/plain": [
       "       Pregnancies     Glucose  BloodPressure  SkinThickness     Insulin  \\\n",
       "count   768.000000  768.000000     768.000000     768.000000  768.000000   \n",
       "mean      3.845052  120.894531      69.105469      20.536458   79.799479   \n",
       "std       3.369578   31.972618      19.355807      15.952218  115.244002   \n",
       "min       0.000000    0.000000       0.000000       0.000000    0.000000   \n",
       "25%       1.000000   99.000000      62.000000       0.000000    0.000000   \n",
       "50%       3.000000  117.000000      72.000000      23.000000   30.500000   \n",
       "75%       6.000000  140.250000      80.000000      32.000000  127.250000   \n",
       "max      17.000000  199.000000     122.000000      99.000000  846.000000   \n",
       "\n",
       "              BMI  DiabetesPedigreeFunction         Age     Outcome  \n",
       "count  768.000000                768.000000  768.000000  768.000000  \n",
       "mean    31.992578                  0.471876   33.240885    0.348958  \n",
       "std      7.884160                  0.331329   11.760232    0.476951  \n",
       "min      0.000000                  0.078000   21.000000    0.000000  \n",
       "25%     27.300000                  0.243750   24.000000    0.000000  \n",
       "50%     32.000000                  0.372500   29.000000    0.000000  \n",
       "75%     36.600000                  0.626250   41.000000    1.000000  \n",
       "max     67.100000                  2.420000   81.000000    1.000000  "
      ]
     },
     "execution_count": 5,
     "metadata": {},
     "output_type": "execute_result"
    }
   ],
   "source": [
    "df.describe()"
   ]
  },
  {
   "cell_type": "code",
   "execution_count": null,
   "id": "8a04dde0",
   "metadata": {},
   "outputs": [],
   "source": [
    "### Check for co-relationb between features"
   ]
  },
  {
   "cell_type": "code",
   "execution_count": 8,
   "id": "8f576396",
   "metadata": {},
   "outputs": [
    {
     "data": {
      "text/html": [
       "<div>\n",
       "<style scoped>\n",
       "    .dataframe tbody tr th:only-of-type {\n",
       "        vertical-align: middle;\n",
       "    }\n",
       "\n",
       "    .dataframe tbody tr th {\n",
       "        vertical-align: top;\n",
       "    }\n",
       "\n",
       "    .dataframe thead th {\n",
       "        text-align: right;\n",
       "    }\n",
       "</style>\n",
       "<table border=\"1\" class=\"dataframe\">\n",
       "  <thead>\n",
       "    <tr style=\"text-align: right;\">\n",
       "      <th></th>\n",
       "      <th>Pregnancies</th>\n",
       "      <th>Glucose</th>\n",
       "      <th>BloodPressure</th>\n",
       "      <th>SkinThickness</th>\n",
       "      <th>Insulin</th>\n",
       "      <th>BMI</th>\n",
       "      <th>DiabetesPedigreeFunction</th>\n",
       "      <th>Age</th>\n",
       "      <th>Outcome</th>\n",
       "    </tr>\n",
       "  </thead>\n",
       "  <tbody>\n",
       "    <tr>\n",
       "      <th>Pregnancies</th>\n",
       "      <td>1.000000</td>\n",
       "      <td>0.129459</td>\n",
       "      <td>0.141282</td>\n",
       "      <td>-0.081672</td>\n",
       "      <td>-0.073535</td>\n",
       "      <td>0.017683</td>\n",
       "      <td>-0.033523</td>\n",
       "      <td>0.544341</td>\n",
       "      <td>0.221898</td>\n",
       "    </tr>\n",
       "    <tr>\n",
       "      <th>Glucose</th>\n",
       "      <td>0.129459</td>\n",
       "      <td>1.000000</td>\n",
       "      <td>0.152590</td>\n",
       "      <td>0.057328</td>\n",
       "      <td>0.331357</td>\n",
       "      <td>0.221071</td>\n",
       "      <td>0.137337</td>\n",
       "      <td>0.263514</td>\n",
       "      <td>0.466581</td>\n",
       "    </tr>\n",
       "    <tr>\n",
       "      <th>BloodPressure</th>\n",
       "      <td>0.141282</td>\n",
       "      <td>0.152590</td>\n",
       "      <td>1.000000</td>\n",
       "      <td>0.207371</td>\n",
       "      <td>0.088933</td>\n",
       "      <td>0.281805</td>\n",
       "      <td>0.041265</td>\n",
       "      <td>0.239528</td>\n",
       "      <td>0.065068</td>\n",
       "    </tr>\n",
       "    <tr>\n",
       "      <th>SkinThickness</th>\n",
       "      <td>-0.081672</td>\n",
       "      <td>0.057328</td>\n",
       "      <td>0.207371</td>\n",
       "      <td>1.000000</td>\n",
       "      <td>0.436783</td>\n",
       "      <td>0.392573</td>\n",
       "      <td>0.183928</td>\n",
       "      <td>-0.113970</td>\n",
       "      <td>0.074752</td>\n",
       "    </tr>\n",
       "    <tr>\n",
       "      <th>Insulin</th>\n",
       "      <td>-0.073535</td>\n",
       "      <td>0.331357</td>\n",
       "      <td>0.088933</td>\n",
       "      <td>0.436783</td>\n",
       "      <td>1.000000</td>\n",
       "      <td>0.197859</td>\n",
       "      <td>0.185071</td>\n",
       "      <td>-0.042163</td>\n",
       "      <td>0.130548</td>\n",
       "    </tr>\n",
       "    <tr>\n",
       "      <th>BMI</th>\n",
       "      <td>0.017683</td>\n",
       "      <td>0.221071</td>\n",
       "      <td>0.281805</td>\n",
       "      <td>0.392573</td>\n",
       "      <td>0.197859</td>\n",
       "      <td>1.000000</td>\n",
       "      <td>0.140647</td>\n",
       "      <td>0.036242</td>\n",
       "      <td>0.292695</td>\n",
       "    </tr>\n",
       "    <tr>\n",
       "      <th>DiabetesPedigreeFunction</th>\n",
       "      <td>-0.033523</td>\n",
       "      <td>0.137337</td>\n",
       "      <td>0.041265</td>\n",
       "      <td>0.183928</td>\n",
       "      <td>0.185071</td>\n",
       "      <td>0.140647</td>\n",
       "      <td>1.000000</td>\n",
       "      <td>0.033561</td>\n",
       "      <td>0.173844</td>\n",
       "    </tr>\n",
       "    <tr>\n",
       "      <th>Age</th>\n",
       "      <td>0.544341</td>\n",
       "      <td>0.263514</td>\n",
       "      <td>0.239528</td>\n",
       "      <td>-0.113970</td>\n",
       "      <td>-0.042163</td>\n",
       "      <td>0.036242</td>\n",
       "      <td>0.033561</td>\n",
       "      <td>1.000000</td>\n",
       "      <td>0.238356</td>\n",
       "    </tr>\n",
       "    <tr>\n",
       "      <th>Outcome</th>\n",
       "      <td>0.221898</td>\n",
       "      <td>0.466581</td>\n",
       "      <td>0.065068</td>\n",
       "      <td>0.074752</td>\n",
       "      <td>0.130548</td>\n",
       "      <td>0.292695</td>\n",
       "      <td>0.173844</td>\n",
       "      <td>0.238356</td>\n",
       "      <td>1.000000</td>\n",
       "    </tr>\n",
       "  </tbody>\n",
       "</table>\n",
       "</div>"
      ],
      "text/plain": [
       "                          Pregnancies   Glucose  BloodPressure  SkinThickness  \\\n",
       "Pregnancies                  1.000000  0.129459       0.141282      -0.081672   \n",
       "Glucose                      0.129459  1.000000       0.152590       0.057328   \n",
       "BloodPressure                0.141282  0.152590       1.000000       0.207371   \n",
       "SkinThickness               -0.081672  0.057328       0.207371       1.000000   \n",
       "Insulin                     -0.073535  0.331357       0.088933       0.436783   \n",
       "BMI                          0.017683  0.221071       0.281805       0.392573   \n",
       "DiabetesPedigreeFunction    -0.033523  0.137337       0.041265       0.183928   \n",
       "Age                          0.544341  0.263514       0.239528      -0.113970   \n",
       "Outcome                      0.221898  0.466581       0.065068       0.074752   \n",
       "\n",
       "                           Insulin       BMI  DiabetesPedigreeFunction  \\\n",
       "Pregnancies              -0.073535  0.017683                 -0.033523   \n",
       "Glucose                   0.331357  0.221071                  0.137337   \n",
       "BloodPressure             0.088933  0.281805                  0.041265   \n",
       "SkinThickness             0.436783  0.392573                  0.183928   \n",
       "Insulin                   1.000000  0.197859                  0.185071   \n",
       "BMI                       0.197859  1.000000                  0.140647   \n",
       "DiabetesPedigreeFunction  0.185071  0.140647                  1.000000   \n",
       "Age                      -0.042163  0.036242                  0.033561   \n",
       "Outcome                   0.130548  0.292695                  0.173844   \n",
       "\n",
       "                               Age   Outcome  \n",
       "Pregnancies               0.544341  0.221898  \n",
       "Glucose                   0.263514  0.466581  \n",
       "BloodPressure             0.239528  0.065068  \n",
       "SkinThickness            -0.113970  0.074752  \n",
       "Insulin                  -0.042163  0.130548  \n",
       "BMI                       0.036242  0.292695  \n",
       "DiabetesPedigreeFunction  0.033561  0.173844  \n",
       "Age                       1.000000  0.238356  \n",
       "Outcome                   0.238356  1.000000  "
      ]
     },
     "execution_count": 8,
     "metadata": {},
     "output_type": "execute_result"
    }
   ],
   "source": [
    "df.corr()"
   ]
  },
  {
   "cell_type": "code",
   "execution_count": 6,
   "id": "79792a4b",
   "metadata": {},
   "outputs": [
    {
     "data": {
      "text/plain": [
       "<AxesSubplot:>"
      ]
     },
     "execution_count": 6,
     "metadata": {},
     "output_type": "execute_result"
    },
    {
     "data": {
      "image/png": "[encoded data removed]",
      "text/plain": [
       "<Figure size 432x288 with 1 Axes>"
      ]
     },
     "metadata": {
      "needs_background": "light"
     },
     "output_type": "display_data"
    }
   ],
   "source": [
    "df.boxplot()"
   ]
  },
  {
   "cell_type": "code",
   "execution_count": 7,
   "id": "5b2513f5",
   "metadata": {},
   "outputs": [
    {
     "data": {
      "text/html": [
       "<div>\n",
       "<style scoped>\n",
       "    .dataframe tbody tr th:only-of-type {\n",
       "        vertical-align: middle;\n",
       "    }\n",
       "\n",
       "    .dataframe tbody tr th {\n",
       "        vertical-align: top;\n",
       "    }\n",
       "\n",
       "    .dataframe thead th {\n",
       "        text-align: right;\n",
       "    }\n",
       "</style>\n",
       "<table border=\"1\" class=\"dataframe\">\n",
       "  <thead>\n",
       "    <tr style=\"text-align: right;\">\n",
       "      <th></th>\n",
       "      <th>Pregnancies</th>\n",
       "      <th>Glucose</th>\n",
       "      <th>BloodPressure</th>\n",
       "      <th>SkinThickness</th>\n",
       "      <th>Insulin</th>\n",
       "      <th>BMI</th>\n",
       "      <th>DiabetesPedigreeFunction</th>\n",
       "      <th>Age</th>\n",
       "    </tr>\n",
       "  </thead>\n",
       "  <tbody>\n",
       "    <tr>\n",
       "      <th>0</th>\n",
       "      <td>6</td>\n",
       "      <td>148</td>\n",
       "      <td>72</td>\n",
       "      <td>35</td>\n",
       "      <td>0</td>\n",
       "      <td>33.6</td>\n",
       "      <td>0.627</td>\n",
       "      <td>50</td>\n",
       "    </tr>\n",
       "    <tr>\n",
       "      <th>1</th>\n",
       "      <td>1</td>\n",
       "      <td>85</td>\n",
       "      <td>66</td>\n",
       "      <td>29</td>\n",
       "      <td>0</td>\n",
       "      <td>26.6</td>\n",
       "      <td>0.351</td>\n",
       "      <td>31</td>\n",
       "    </tr>\n",
       "    <tr>\n",
       "      <th>2</th>\n",
       "      <td>8</td>\n",
       "      <td>183</td>\n",
       "      <td>64</td>\n",
       "      <td>0</td>\n",
       "      <td>0</td>\n",
       "      <td>23.3</td>\n",
       "      <td>0.672</td>\n",
       "      <td>32</td>\n",
       "    </tr>\n",
       "    <tr>\n",
       "      <th>3</th>\n",
       "      <td>1</td>\n",
       "      <td>89</td>\n",
       "      <td>66</td>\n",
       "      <td>23</td>\n",
       "      <td>94</td>\n",
       "      <td>28.1</td>\n",
       "      <td>0.167</td>\n",
       "      <td>21</td>\n",
       "    </tr>\n",
       "    <tr>\n",
       "      <th>4</th>\n",
       "      <td>0</td>\n",
       "      <td>137</td>\n",
       "      <td>40</td>\n",
       "      <td>35</td>\n",
       "      <td>168</td>\n",
       "      <td>43.1</td>\n",
       "      <td>2.288</td>\n",
       "      <td>33</td>\n",
       "    </tr>\n",
       "    <tr>\n",
       "      <th>...</th>\n",
       "      <td>...</td>\n",
       "      <td>...</td>\n",
       "      <td>...</td>\n",
       "      <td>...</td>\n",
       "      <td>...</td>\n",
       "      <td>...</td>\n",
       "      <td>...</td>\n",
       "      <td>...</td>\n",
       "    </tr>\n",
       "    <tr>\n",
       "      <th>763</th>\n",
       "      <td>10</td>\n",
       "      <td>101</td>\n",
       "      <td>76</td>\n",
       "      <td>48</td>\n",
       "      <td>180</td>\n",
       "      <td>32.9</td>\n",
       "      <td>0.171</td>\n",
       "      <td>63</td>\n",
       "    </tr>\n",
       "    <tr>\n",
       "      <th>764</th>\n",
       "      <td>2</td>\n",
       "      <td>122</td>\n",
       "      <td>70</td>\n",
       "      <td>27</td>\n",
       "      <td>0</td>\n",
       "      <td>36.8</td>\n",
       "      <td>0.340</td>\n",
       "      <td>27</td>\n",
       "    </tr>\n",
       "    <tr>\n",
       "      <th>765</th>\n",
       "      <td>5</td>\n",
       "      <td>121</td>\n",
       "      <td>72</td>\n",
       "      <td>23</td>\n",
       "      <td>112</td>\n",
       "      <td>26.2</td>\n",
       "      <td>0.245</td>\n",
       "      <td>30</td>\n",
       "    </tr>\n",
       "    <tr>\n",
       "      <th>766</th>\n",
       "      <td>1</td>\n",
       "      <td>126</td>\n",
       "      <td>60</td>\n",
       "      <td>0</td>\n",
       "      <td>0</td>\n",
       "      <td>30.1</td>\n",
       "      <td>0.349</td>\n",
       "      <td>47</td>\n",
       "    </tr>\n",
       "    <tr>\n",
       "      <th>767</th>\n",
       "      <td>1</td>\n",
       "      <td>93</td>\n",
       "      <td>70</td>\n",
       "      <td>31</td>\n",
       "      <td>0</td>\n",
       "      <td>30.4</td>\n",
       "      <td>0.315</td>\n",
       "      <td>23</td>\n",
       "    </tr>\n",
       "  </tbody>\n",
       "</table>\n",
       "<p>768 rows × 8 columns</p>\n",
       "</div>"
      ],
      "text/plain": [
       "     Pregnancies  Glucose  BloodPressure  SkinThickness  Insulin   BMI  \\\n",
       "0              6      148             72             35        0  33.6   \n",
       "1              1       85             66             29        0  26.6   \n",
       "2              8      183             64              0        0  23.3   \n",
       "3              1       89             66             23       94  28.1   \n",
       "4              0      137             40             35      168  43.1   \n",
       "..           ...      ...            ...            ...      ...   ...   \n",
       "763           10      101             76             48      180  32.9   \n",
       "764            2      122             70             27        0  36.8   \n",
       "765            5      121             72             23      112  26.2   \n",
       "766            1      126             60              0        0  30.1   \n",
       "767            1       93             70             31        0  30.4   \n",
       "\n",
       "     DiabetesPedigreeFunction  Age  \n",
       "0                       0.627   50  \n",
       "1                       0.351   31  \n",
       "2                       0.672   32  \n",
       "3                       0.167   21  \n",
       "4                       2.288   33  \n",
       "..                        ...  ...  \n",
       "763                     0.171   63  \n",
       "764                     0.340   27  \n",
       "765                     0.245   30  \n",
       "766                     0.349   47  \n",
       "767                     0.315   23  \n",
       "\n",
       "[768 rows x 8 columns]"
      ]
     },
     "execution_count": 7,
     "metadata": {},
     "output_type": "execute_result"
    }
   ],
   "source": [
    "num=df.iloc[:,:-1]\n",
    "num"
   ]
  },
  {
   "cell_type": "code",
   "execution_count": 8,
   "id": "3c2371b5",
   "metadata": {},
   "outputs": [],
   "source": [
    "q1=df[\"Glucose\"].quantile(.25)\n",
    "q2=df[\"Glucose\"].quantile(.75)\n",
    "iqr=q2-q1"
   ]
  },
  {
   "cell_type": "code",
   "execution_count": 9,
   "id": "52c1c226",
   "metadata": {},
   "outputs": [],
   "source": [
    "upper=q2+1.5*iqr\n",
    "lower=q1-1.5*iqr"
   ]
  },
  {
   "cell_type": "code",
   "execution_count": 10,
   "id": "6e51e397",
   "metadata": {},
   "outputs": [],
   "source": [
    "df[\"Glucose\"]=df[\"Glucose\"].loc[(df[\"Glucose\"]<upper)|(df[\"Glucose\"]>lower)]"
   ]
  },
  {
   "cell_type": "code",
   "execution_count": 11,
   "id": "a1d5fe80",
   "metadata": {},
   "outputs": [
    {
     "data": {
      "text/plain": [
       "count    768.000000\n",
       "mean     120.894531\n",
       "std       31.972618\n",
       "min        0.000000\n",
       "25%       99.000000\n",
       "50%      117.000000\n",
       "75%      140.250000\n",
       "max      199.000000\n",
       "Name: Glucose, dtype: float64"
      ]
     },
     "execution_count": 11,
     "metadata": {},
     "output_type": "execute_result"
    }
   ],
   "source": [
    "df[\"Glucose\"].describe()"
   ]
  },
  {
   "cell_type": "code",
   "execution_count": 12,
   "id": "6b77e177",
   "metadata": {},
   "outputs": [],
   "source": [
    "q1=df[\"Insulin\"].quantile(.25)\n",
    "q2=df[\"Insulin\"].quantile(.75)\n",
    "iqr=q2-q1\n",
    "upper=q2+1.5*iqr\n",
    "lower=q1-1.5*iqr\n",
    "df[\"Insulin\"]=df[\"Insulin\"].loc[(df[\"Insulin\"]<upper)|(df[\"Insulin\"]>lower)]"
   ]
  },
  {
   "cell_type": "code",
   "execution_count": 13,
   "id": "8ebe188b",
   "metadata": {},
   "outputs": [
    {
     "data": {
      "text/plain": [
       "count    768.000000\n",
       "mean      79.799479\n",
       "std      115.244002\n",
       "min        0.000000\n",
       "25%        0.000000\n",
       "50%       30.500000\n",
       "75%      127.250000\n",
       "max      846.000000\n",
       "Name: Insulin, dtype: float64"
      ]
     },
     "execution_count": 13,
     "metadata": {},
     "output_type": "execute_result"
    }
   ],
   "source": [
    "df[\"Insulin\"].describe()"
   ]
  },
  {
   "cell_type": "code",
   "execution_count": 14,
   "id": "206232b4",
   "metadata": {},
   "outputs": [
    {
     "name": "stdout",
     "output_type": "stream",
     "text": [
      "Pregnancies\n",
      "13.5\n",
      "-6.5\n",
      "\n",
      "Glucose\n",
      "202.125\n",
      "37.125\n",
      "\n",
      "BloodPressure\n",
      "107.0\n",
      "35.0\n",
      "\n",
      "SkinThickness\n",
      "80.0\n",
      "-48.0\n",
      "\n",
      "Insulin\n",
      "318.125\n",
      "-190.875\n",
      "\n",
      "BMI\n",
      "50.550000000000004\n",
      "13.35\n",
      "\n",
      "DiabetesPedigreeFunction\n",
      "1.2\n",
      "-0.32999999999999996\n",
      "\n",
      "Age\n",
      "66.5\n",
      "-1.5\n",
      "\n"
     ]
    }
   ],
   "source": [
    "for i in num:\n",
    "    print(i)\n",
    "    q1 = num[i].quantile(0.25)\n",
    "    q2 = num[i].quantile(0.50)\n",
    "    q3 = num[i].quantile(0.75)\n",
    "    IQR = q3-q1\n",
    "    uppertail = q3+1.5*IQR\n",
    "    print(uppertail)\n",
    "    lowertail = q1-1.5*IQR\n",
    "    print(lowertail)\n",
    "    print()\n",
    "    df[i]=df[i].loc[(df[i]<uppertail)|(df[i]>lowertail)]\n",
    "    \n",
    "    "
   ]
  },
  {
   "cell_type": "code",
   "execution_count": 15,
   "id": "ebdb7229",
   "metadata": {},
   "outputs": [],
   "source": [
    "x = df.drop('Outcome', axis=1)\n",
    "y = df['Outcome'] \n",
    "\n",
    "x_train, x_test, y_train, y_test = train_test_split(x,y, test_size=0.2, random_state=5, stratify=y)"
   ]
  },
  {
   "cell_type": "code",
   "execution_count": 16,
   "id": "a6a16e19",
   "metadata": {},
   "outputs": [
    {
     "data": {
      "text/plain": [
       "LogisticRegression()"
      ]
     },
     "execution_count": 16,
     "metadata": {},
     "output_type": "execute_result"
    }
   ],
   "source": [
    "model = LogisticRegression()\n",
    "model.fit(x_train, y_train)"
   ]
  },
  {
   "cell_type": "code",
   "execution_count": 17,
   "id": "b8c6e0a6",
   "metadata": {},
   "outputs": [
    {
     "data": {
      "text/plain": [
       "<sklearn.metrics._plot.confusion_matrix.ConfusionMatrixDisplay at 0x1aef819a9a0>"
      ]
     },
     "execution_count": 17,
     "metadata": {},
     "output_type": "execute_result"
    },
    {
     "data": {
      "image/png": "[encoded data removed]",
      "text/plain": [
       "<Figure size 432x288 with 2 Axes>"
      ]
     },
     "metadata": {
      "needs_background": "light"
     },
     "output_type": "display_data"
    }
   ],
   "source": [
    "# Training Data #\n",
    "plot_confusion_matrix(model, x_train, y_train)"
   ]
  },
  {
   "cell_type": "code",
   "execution_count": 18,
   "id": "7f448684",
   "metadata": {},
   "outputs": [
    {
     "data": {
      "text/plain": [
       "0.7833876221498371"
      ]
     },
     "execution_count": 18,
     "metadata": {},
     "output_type": "execute_result"
    }
   ],
   "source": [
    "# Training Accuracy\n",
    "model.score(x_train, y_train)"
   ]
  },
  {
   "cell_type": "code",
   "execution_count": 19,
   "id": "d10415a0",
   "metadata": {},
   "outputs": [
    {
     "data": {
      "text/plain": [
       "<sklearn.metrics._plot.confusion_matrix.ConfusionMatrixDisplay at 0x1aef79f8220>"
      ]
     },
     "execution_count": 19,
     "metadata": {},
     "output_type": "execute_result"
    },
    {
     "data": {
      "image/png": "[encoded data removed]",
      "text/plain": [
       "<Figure size 432x288 with 2 Axes>"
      ]
     },
     "metadata": {
      "needs_background": "light"
     },
     "output_type": "display_data"
    }
   ],
   "source": [
    "# Testing Data #\n",
    "plot_confusion_matrix(model, x_test, y_test)"
   ]
  },
  {
   "cell_type": "code",
   "execution_count": null,
   "id": "5cc3684f",
   "metadata": {},
   "outputs": [],
   "source": [
    "from sklearn.metrics import precision_score, recall_score, f1_score"
   ]
  },
  {
   "cell_type": "code",
   "execution_count": 53,
   "id": "d66d6d96",
   "metadata": {},
   "outputs": [
    {
     "name": "stdout",
     "output_type": "stream",
     "text": [
      "Precision =  0.7\n",
      "Recall =  0.5185185185185185\n",
      "F1 score =  0.5957446808510639\n"
     ]
    }
   ],
   "source": [
    "print(\"Precision = \",precision_score(y_test,y_pred_test))\n",
    "print(\"Recall = \",recall_score(y_test,y_pred_test))\n",
    "print(\"F1 score = \",f1_score(y_test,y_pred_test))"
   ]
  },
  {
   "cell_type": "code",
   "execution_count": null,
   "id": "dff51ed0",
   "metadata": {},
   "outputs": [],
   "source": []
  },
  {
   "cell_type": "code",
   "execution_count": 20,
   "id": "6a581d29",
   "metadata": {},
   "outputs": [
    {
     "name": "stdout",
     "output_type": "stream",
     "text": [
      "Confusion Matrix:\n",
      " [[354  46]\n",
      " [ 87 127]]\n",
      "\n",
      "Accuracy Score: 0.7833876221498371\n",
      "\n",
      "Classification report:\n",
      "               precision    recall  f1-score   support\n",
      "\n",
      "           0       0.80      0.89      0.84       400\n",
      "           1       0.73      0.59      0.66       214\n",
      "\n",
      "    accuracy                           0.78       614\n",
      "   macro avg       0.77      0.74      0.75       614\n",
      "weighted avg       0.78      0.78      0.78       614\n",
      "\n"
     ]
    }
   ],
   "source": [
    "# Training data\n",
    "\n",
    "#### prediction ####\n",
    "y_pred_train = model.predict(x_train)\n",
    "\n",
    "cnf_mtx = confusion_matrix(y_train, y_pred_train)\n",
    "print(\"Confusion Matrix:\\n\",cnf_mtx)\n",
    "\n",
    "#### Visualization ####\n",
    "print()\n",
    "accuracy = accuracy_score(y_train, y_pred_train)\n",
    "print(\"Accuracy Score:\",accuracy)\n",
    "print()\n",
    "\n",
    "clsf_report = classification_report(y_train, y_pred_train)\n",
    "print(\"Classification report:\\n\",clsf_report)"
   ]
  },
  {
   "cell_type": "code",
   "execution_count": 52,
   "id": "648f640e",
   "metadata": {},
   "outputs": [
    {
     "name": "stdout",
     "output_type": "stream",
     "text": [
      "Confusion Matrix:\n",
      " [[88 12]\n",
      " [26 28]]\n",
      "\n",
      "Accuracy Score: 0.7532467532467533\n",
      "\n",
      "Classification report:\n",
      "               precision    recall  f1-score   support\n",
      "\n",
      "           0       0.77      0.88      0.82       100\n",
      "           1       0.70      0.52      0.60        54\n",
      "\n",
      "    accuracy                           0.75       154\n",
      "   macro avg       0.74      0.70      0.71       154\n",
      "weighted avg       0.75      0.75      0.74       154\n",
      "\n"
     ]
    }
   ],
   "source": [
    "# testing data\n",
    "\n",
    "#### prediction ####\n",
    "y_pred_test = model.predict(x_test)\n",
    "\n",
    "cnf_mtx = confusion_matrix(y_test, y_pred_test)\n",
    "print(\"Confusion Matrix:\\n\",cnf_mtx)\n",
    "\n",
    "#### Visualization ####\n",
    "print()\n",
    "accuracy = accuracy_score(y_test, y_pred_test)\n",
    "print(\"Accuracy Score:\",accuracy)\n",
    "print()\n",
    "\n",
    "clsf_report = classification_report(y_test, y_pred_test)\n",
    "print(\"Classification report:\\n\",clsf_report)"
   ]
  },
  {
   "cell_type": "code",
   "execution_count": 54,
   "id": "24ab0780",
   "metadata": {},
   "outputs": [
    {
     "name": "stdout",
     "output_type": "stream",
     "text": [
      "Precision =  0.7\n",
      "Recall =  0.5185185185185185\n",
      "F1 score =  0.5957446808510639\n"
     ]
    }
   ],
   "source": [
    "print(\"Precision = \",precision_score(y_test,y_pred_test))\n",
    "print(\"Recall = \",recall_score(y_test,y_pred_test))\n",
    "print(\"F1 score = \",f1_score(y_test,y_pred_test))"
   ]
  },
  {
   "cell_type": "code",
   "execution_count": 21,
   "id": "d7757c3b",
   "metadata": {},
   "outputs": [],
   "source": [
    "### Prediction for single data\n"
   ]
  },
  {
   "cell_type": "code",
   "execution_count": 29,
   "id": "5c283048",
   "metadata": {},
   "outputs": [
    {
     "data": {
      "text/plain": [
       "Index(['Pregnancies', 'Glucose', 'BloodPressure', 'SkinThickness', 'Insulin',\n",
       "       'BMI', 'DiabetesPedigreeFunction', 'Age'],\n",
       "      dtype='object')"
      ]
     },
     "execution_count": 29,
     "metadata": {},
     "output_type": "execute_result"
    }
   ],
   "source": [
    "column_names=x.columns\n",
    "column_names"
   ]
  },
  {
   "cell_type": "code",
   "execution_count": 28,
   "id": "4ed8d8d6",
   "metadata": {},
   "outputs": [
    {
     "data": {
      "text/plain": [
       "array([0., 0., 0., 0., 0., 0., 0., 0.])"
      ]
     },
     "execution_count": 28,
     "metadata": {},
     "output_type": "execute_result"
    }
   ],
   "source": [
    "array = np.zeros(len(column_names), dtype = float)\n",
    "array"
   ]
  },
  {
   "cell_type": "code",
   "execution_count": 33,
   "id": "9fd28fbd",
   "metadata": {},
   "outputs": [
    {
     "data": {
      "text/plain": [
       "Pregnancies                   7.000\n",
       "Glucose                     142.000\n",
       "BloodPressure                60.000\n",
       "SkinThickness                33.000\n",
       "Insulin                     190.000\n",
       "BMI                          28.800\n",
       "DiabetesPedigreeFunction      0.687\n",
       "Age                          61.000\n",
       "Name: 223, dtype: float64"
      ]
     },
     "execution_count": 33,
     "metadata": {},
     "output_type": "execute_result"
    }
   ],
   "source": [
    "x_test.iloc[5]"
   ]
  },
  {
   "cell_type": "code",
   "execution_count": 34,
   "id": "79727696",
   "metadata": {},
   "outputs": [],
   "source": [
    "Pregnancies=7.000\n",
    "Glucose=142.000\n",
    "BloodPressure=60.000\n",
    "SkinThickness=33.000\n",
    "Insulin=190.000\n",
    "BMI=28.800\n",
    "DiabetesPedigreeFunction=0.687\n",
    "Age=61.000\n"
   ]
  },
  {
   "cell_type": "code",
   "execution_count": 38,
   "id": "691c0995",
   "metadata": {},
   "outputs": [
    {
     "name": "stdout",
     "output_type": "stream",
     "text": [
      "You are Diabetis patient,Take proper treatment and get recover soon\n"
     ]
    }
   ],
   "source": [
    "array[0] = Pregnancies\n",
    "array[1] = Glucose\n",
    "array[2] = BloodPressure\n",
    "array[3] = SkinThickness\n",
    "array[4] = Insulin\n",
    "array[5] = BMI\n",
    "array[6] = DiabetesPedigreeFunction\n",
    "array[7] = Age\n",
    "\n",
    "predict_patient= model.predict([array])[0]\n",
    "predict_patient\n",
    "if predict_patient == 1 :\n",
    "    print(\"You are Diabetis patient,Take proper treatment and get recover soon\")\n",
    "else:\n",
    "    print(\"You dont have diabetis ...Enjoy your life\")"
   ]
  },
  {
   "cell_type": "code",
   "execution_count": null,
   "id": "32402cdb",
   "metadata": {},
   "outputs": [],
   "source": [
    "### AOC - ROC "
   ]
  },
  {
   "cell_type": "code",
   "execution_count": 39,
   "id": "2d3d6a03",
   "metadata": {},
   "outputs": [
    {
     "data": {
      "text/plain": [
       "array([1.97505542e+00, 9.75055416e-01, 9.74817990e-01, 9.17615206e-01,\n",
       "       9.17134981e-01, 9.14927976e-01, 9.06862417e-01, 8.90175663e-01,\n",
       "       8.87872312e-01, 8.26061297e-01, 8.24003814e-01, 8.12812199e-01,\n",
       "       8.12153263e-01, 8.10847283e-01, 8.08233383e-01, 7.98877756e-01,\n",
       "       7.98378710e-01, 7.83208851e-01, 7.81156807e-01, 7.64727770e-01,\n",
       "       7.59221582e-01, 7.57440841e-01, 7.57196270e-01, 7.42312695e-01,\n",
       "       7.38333568e-01, 7.34373132e-01, 7.33170763e-01, 7.25279070e-01,\n",
       "       7.24740781e-01, 7.19939982e-01, 7.19188921e-01, 7.10443199e-01,\n",
       "       6.98687435e-01, 6.94405175e-01, 6.91975182e-01, 6.87522291e-01,\n",
       "       6.83322036e-01, 6.71831992e-01, 6.62802293e-01, 6.62564921e-01,\n",
       "       6.60604213e-01, 6.55641102e-01, 6.54579947e-01, 6.50667403e-01,\n",
       "       6.47853504e-01, 6.46119761e-01, 6.44852763e-01, 6.22280708e-01,\n",
       "       6.20803816e-01, 6.06570036e-01, 6.00636414e-01, 6.00238474e-01,\n",
       "       5.96664744e-01, 5.69733925e-01, 5.68392936e-01, 5.68064785e-01,\n",
       "       5.59715057e-01, 5.55144955e-01, 5.52629770e-01, 5.44834170e-01,\n",
       "       5.43771914e-01, 5.38766101e-01, 5.22522555e-01, 5.11686893e-01,\n",
       "       5.10335490e-01, 5.09890956e-01, 5.09680779e-01, 5.09673026e-01,\n",
       "       5.09308002e-01, 5.07645484e-01, 5.07293393e-01, 5.04942830e-01,\n",
       "       4.97887675e-01, 4.95365123e-01, 4.86327159e-01, 4.84829840e-01,\n",
       "       4.81332085e-01, 4.80450635e-01, 4.70431910e-01, 4.65279345e-01,\n",
       "       4.61183597e-01, 4.51125704e-01, 4.51033823e-01, 4.43043710e-01,\n",
       "       4.40879013e-01, 4.33568484e-01, 4.29874217e-01, 4.21904473e-01,\n",
       "       4.15148893e-01, 4.12653393e-01, 4.10496863e-01, 4.10288751e-01,\n",
       "       4.04221759e-01, 4.03461721e-01, 3.97319143e-01, 3.96002493e-01,\n",
       "       3.91170187e-01, 3.85962018e-01, 3.84436996e-01, 3.83100938e-01,\n",
       "       3.78687094e-01, 3.78586663e-01, 3.73676627e-01, 3.73272666e-01,\n",
       "       3.71553371e-01, 3.69582308e-01, 3.65258534e-01, 3.64716442e-01,\n",
       "       3.58126041e-01, 3.56079857e-01, 3.53955146e-01, 3.52362687e-01,\n",
       "       3.49795370e-01, 3.45031668e-01, 3.42767803e-01, 3.40484278e-01,\n",
       "       3.36249606e-01, 3.34264780e-01, 3.22492523e-01, 3.21597457e-01,\n",
       "       3.10162265e-01, 3.06787811e-01, 3.06454772e-01, 3.06231541e-01,\n",
       "       3.03006314e-01, 3.00172910e-01, 2.95305910e-01, 2.89219968e-01,\n",
       "       2.77978660e-01, 2.74252568e-01, 2.72093282e-01, 2.69609937e-01,\n",
       "       2.62540682e-01, 2.62344144e-01, 2.57055013e-01, 2.55277568e-01,\n",
       "       2.44310969e-01, 2.44201467e-01, 2.42233447e-01, 2.39925266e-01,\n",
       "       2.37732165e-01, 2.34913167e-01, 2.33983457e-01, 2.33875608e-01,\n",
       "       2.32485580e-01, 2.31142854e-01, 2.29545362e-01, 2.29026139e-01,\n",
       "       2.19962713e-01, 2.19586098e-01, 2.18356864e-01, 2.15215803e-01,\n",
       "       2.04748532e-01, 2.02975322e-01, 2.02952420e-01, 2.02848901e-01,\n",
       "       1.98598861e-01, 1.98539032e-01, 1.78992925e-01, 1.78971622e-01,\n",
       "       1.75970821e-01, 1.75048534e-01, 1.69193216e-01, 1.68953022e-01,\n",
       "       1.65764130e-01, 1.65605895e-01, 1.64533531e-01, 1.63345205e-01,\n",
       "       1.59579129e-01, 1.57819006e-01, 1.56011636e-01, 1.55291871e-01,\n",
       "       1.49907631e-01, 1.49335853e-01, 1.47689797e-01, 1.47582086e-01,\n",
       "       1.42795517e-01, 1.42497003e-01, 1.38676802e-01, 1.38654623e-01,\n",
       "       1.35653908e-01, 1.35541757e-01, 1.24861550e-01, 1.23855825e-01,\n",
       "       1.11391808e-01, 1.10651268e-01, 7.32124408e-02, 7.32050959e-02,\n",
       "       6.94727701e-02, 6.75603004e-02, 6.08145057e-02, 6.06397640e-02,\n",
       "       1.06197588e-02, 9.25734027e-03, 1.80568332e-03])"
      ]
     },
     "execution_count": 39,
     "metadata": {},
     "output_type": "execute_result"
    }
   ],
   "source": [
    "# prediction probability\n",
    "y_pred_proba = model.predict_proba(x_train)\n",
    "\n",
    "y_pred_proba[:,1]  # We are getting class 1 probability\n",
    "\n",
    "fpr, tpr, thresh = roc_curve(y_train, y_pred_proba[:,1])\n",
    "thresh"
   ]
  },
  {
   "cell_type": "code",
   "execution_count": 40,
   "id": "76ac1a62",
   "metadata": {},
   "outputs": [
    {
     "data": {
      "text/plain": [
       "Text(0.5, 1.0, 'Reciever Operating Characteristics')"
      ]
     },
     "execution_count": 40,
     "metadata": {},
     "output_type": "execute_result"
    },
    {
     "data": {
      "image/png": "[encoded data removed]",
      "text/plain": [
       "<Figure size 432x288 with 1 Axes>"
      ]
     },
     "metadata": {
      "needs_background": "light"
     },
     "output_type": "display_data"
    }
   ],
   "source": [
    "# Plot AUC-ROC\n",
    "plt.plot(fpr,tpr)\n",
    "plt.xlabel(\"False Positive Rate -->\")\n",
    "plt.ylabel(\"True Positive Rate -->\")\n",
    "plt.title(\"Reciever Operating Characteristics\")"
   ]
  },
  {
   "cell_type": "code",
   "execution_count": 45,
   "id": "60f6afdb",
   "metadata": {},
   "outputs": [
    {
     "name": "stdout",
     "output_type": "stream",
     "text": [
      "[0.         0.33333333 0.66666667 0.66666667 1.         1.        ]\n",
      "[0.  0.  0.  0.5 0.5 1. ]\n",
      "[2.   1.   0.75 0.09 0.05 0.  ]\n",
      "0.8333333333333333\n",
      "Threshold value is: 0.75\n"
     ]
    },
    {
     "data": {
      "image/png": "[encoded data removed]",
      "text/plain": [
       "<Figure size 432x288 with 1 Axes>"
      ]
     },
     "metadata": {
      "needs_background": "light"
     },
     "output_type": "display_data"
    }
   ],
   "source": [
    "def plot_roc_curve(fpr, tpr):\n",
    "    plt.plot(fpr, tpr, color='orange', label='ROC')\n",
    "    plt.plot([0, 1], [0, 1], color='darkblue', linestyle='--')\n",
    "    plt.xlabel('False Positive Rate')\n",
    "    plt.ylabel('True Positive Rate')\n",
    "    plt.title('Receiver Operating Characteristic (ROC) Curve')\n",
    "    plt.legend()\n",
    "    plt.show()\n",
    "\n",
    "y_true = np.array([0,0, 1, 1,1])\n",
    "y_scores = np.array([0.0,0.09, .05, .75,1])\n",
    "\n",
    "fpr, tpr, thresholds = roc_curve(y_true, y_scores)\n",
    "print(tpr)\n",
    "print(fpr)\n",
    "print(thresholds)\n",
    "print(roc_auc_score(y_true, y_scores))\n",
    "optimal_idx = np.argmax(tpr - fpr)\n",
    "optimal_threshold = thresholds[optimal_idx]\n",
    "print(\"Threshold value is:\", optimal_threshold)\n",
    "plot_roc_curve(fpr, tpr)"
   ]
  },
  {
   "cell_type": "code",
   "execution_count": 49,
   "id": "546f4c7a",
   "metadata": {},
   "outputs": [],
   "source": [
    "json_data = {\"columns\" : list(column_names)}"
   ]
  },
  {
   "cell_type": "code",
   "execution_count": 50,
   "id": "a2c1abfb",
   "metadata": {},
   "outputs": [],
   "source": [
    "#pickle file\n",
    "\n",
    "with open(\"diabetis_model.pkl\", \"wb\") as f :\n",
    "    pickle.dump(model, f)"
   ]
  },
  {
   "cell_type": "code",
   "execution_count": 51,
   "id": "99cb9fdc",
   "metadata": {},
   "outputs": [],
   "source": [
    "#project data\n",
    "\n",
    "import json\n",
    "with open(\"diabetes_data.json\" , \"w\") as f:\n",
    "    json.dump(json_data, f)"
   ]
  },
  {
   "cell_type": "code",
   "execution_count": null,
   "id": "aa2b9a4b",
   "metadata": {},
   "outputs": [],
   "source": []
  },
  {
   "cell_type": "code",
   "execution_count": 59,
   "id": "42a8639f",
   "metadata": {},
   "outputs": [],
   "source": [
    "class LogisticRegressionWithThreshold(LogisticRegression):\n",
    "    def predict(self, X, threshold=None):\n",
    "        if threshold == None: # If no threshold passed in, simply call the base class predict, effectively threshold=0.5\n",
    "            return LogisticRegression.predict(self, X)\n",
    "        else:\n",
    "            y_scores = LogisticRegression.predict_proba(self, X)[:, 1]\n",
    "            y_pred_with_threshold = (y_scores >= threshold).astype(int)\n",
    "\n",
    "            return y_pred_with_threshold\n",
    "    \n",
    "    def threshold_from_optimal_tpr_minus_fpr(self, X, y):\n",
    "        y_scores = LogisticRegression.predict_proba(self, X)[:, 1]\n",
    "        fpr, tpr, thresholds = roc_curve(y, y_scores) \n",
    "\n",
    "        optimal_idx = np.argmax(tpr - fpr)\n",
    "\n",
    "        return thresholds[optimal_idx], tpr[optimal_idx] - fpr[optimal_idx]"
   ]
  },
  {
   "cell_type": "code",
   "execution_count": 65,
   "id": "4991aa65",
   "metadata": {},
   "outputs": [
    {
     "data": {
      "text/plain": [
       "(0.3450316678638458, 0.5410280373831776)"
      ]
     },
     "execution_count": 65,
     "metadata": {},
     "output_type": "execute_result"
    }
   ],
   "source": [
    "lrt = LogisticRegressionWithThreshold()\n",
    "lrt.fit(x_train, y_train)\n",
    "\n",
    "threshold, optimal_tpr_minus_fpr = lrt.threshold_from_optimal_tpr_minus_fpr(x_train, y_train)\n",
    "y_pred = lrt.predict(x_train, threshold)\n",
    "\n",
    "threshold, optimal_tpr_minus_fpr"
   ]
  },
  {
   "cell_type": "code",
   "execution_count": 66,
   "id": "0be937fa",
   "metadata": {},
   "outputs": [],
   "source": [
    "def threshold_from_desired_precision(self, X, y, desired_precision=0.9):\n",
    "        y_scores = LogisticRegression.predict_proba(self, X)[:, 1]\n",
    "        precisions, recalls, thresholds = precision_recall_curve(y, y_scores)\n",
    "\n",
    "        desired_precision_idx = np.argmax(precisions >= desired_precision)\n",
    "        \n",
    "        return thresholds[desired_precision_idx], recalls[desired_precision_idx]\n",
    "\n",
    "def threshold_from_desired_recall(self, X, y, desired_recall=0.9):\n",
    "        y_scores = LogisticRegression.predict_proba(self, X)[:, 1]\n",
    "        precisions, recalls, thresholds = precision_recall_curve(y, y_scores)\n",
    "\n",
    "        desired_recall_idx = np.argmin(recalls >= desired_recall)\n",
    "        \n",
    "        return thresholds[desired_recall_idx], precisions[desired_recall_idx]"
   ]
  },
  {
   "cell_type": "code",
   "execution_count": 68,
   "id": "69ea290f",
   "metadata": {},
   "outputs": [
    {
     "ename": "AttributeError",
     "evalue": "'LogisticRegressionWithThreshold' object has no attribute 'threshold_from_desired_recall'",
     "output_type": "error",
     "traceback": [
      "\u001b[1;31m---------------------------------------------------------------------------\u001b[0m",
      "\u001b[1;31mAttributeError\u001b[0m                            Traceback (most recent call last)",
      "Input \u001b[1;32mIn [68]\u001b[0m, in \u001b[0;36m<cell line: 4>\u001b[1;34m()\u001b[0m\n\u001b[0;32m      1\u001b[0m lrt \u001b[38;5;241m=\u001b[39m LogisticRegressionWithThreshold()\n\u001b[0;32m      2\u001b[0m lrt\u001b[38;5;241m.\u001b[39mfit(x_train, y_train)\n\u001b[1;32m----> 4\u001b[0m threshold, precision \u001b[38;5;241m=\u001b[39m \u001b[43mlrt\u001b[49m\u001b[38;5;241;43m.\u001b[39;49m\u001b[43mthreshold_from_desired_recall\u001b[49m(x_train, y_train, \u001b[38;5;241m0.9\u001b[39m)\n\u001b[0;32m      5\u001b[0m y_pred \u001b[38;5;241m=\u001b[39m lrt\u001b[38;5;241m.\u001b[39mpredict(x_train, threshold)\n\u001b[0;32m      7\u001b[0m threshold, precision\n",
      "\u001b[1;31mAttributeError\u001b[0m: 'LogisticRegressionWithThreshold' object has no attribute 'threshold_from_desired_recall'"
     ]
    }
   ],
   "source": [
    "lrt = LogisticRegressionWithThreshold()\n",
    "lrt.fit(x_train, y_train)\n",
    "\n",
    "threshold, precision = lrt.threshold_from_desired_recall(x_train, y_train, 0.9)\n",
    "y_pred = lrt.predict(x_train, threshold)\n",
    "\n",
    "threshold, precision"
   ]
  },
  {
   "cell_type": "code",
   "execution_count": null,
   "id": "42afdd88",
   "metadata": {},
   "outputs": [],
   "source": []
  },
  {
   "cell_type": "code",
   "execution_count": 69,
   "id": "945fe089",
   "metadata": {},
   "outputs": [],
   "source": [
    "def threshold_from_optimal_accuracy(self, X, y):\n",
    "        y_scores = LogisticRegression.predict_proba(self, X)[:, 1]\n",
    "        precisions, recalls, thresholds = precision_recall_curve(y, y_scores)\n",
    "        \n",
    "        accuracies = []\n",
    "        tns = []\n",
    "        fps = []\n",
    "        fns = []\n",
    "        tps = []\n",
    "\n",
    "        for threshold in thresholds:\n",
    "            y_pred_with_threshold = (y_scores >= threshold).astype(int)\n",
    "            tn, fp, fn, tp = confusion_matrix(y, y_pred_with_threshold).ravel()\n",
    "\n",
    "            accuracies.append((tp+tn)/(tn+fp+fn+tp))\n",
    "            tns.append(tn), fps.append(fp), fns.append(fn), tps.append(tp)\n",
    "        \n",
    "        df_accuracy = pd.DataFrame({'threshold':thresholds, 'accuracy':accuracies, 'tn':tns, 'fp':fps, 'fn':fns, 'tp':tps})\n",
    "\n",
    "        max_accuracy = df_accuracy['accuracy'].max()\n",
    "        threshold = df_accuracy[df_accuracy['accuracy']==max_accuracy].iloc[0]['threshold']\n",
    "\n",
    "        return threshold, max_accuracy, df_accuracy"
   ]
  },
  {
   "cell_type": "code",
   "execution_count": 71,
   "id": "0fb9bc43",
   "metadata": {},
   "outputs": [
    {
     "ename": "AttributeError",
     "evalue": "'LogisticRegressionWithThreshold' object has no attribute 'threshold_from_optimal_accuracy'",
     "output_type": "error",
     "traceback": [
      "\u001b[1;31m---------------------------------------------------------------------------\u001b[0m",
      "\u001b[1;31mAttributeError\u001b[0m                            Traceback (most recent call last)",
      "Input \u001b[1;32mIn [71]\u001b[0m, in \u001b[0;36m<cell line: 4>\u001b[1;34m()\u001b[0m\n\u001b[0;32m      1\u001b[0m lrt \u001b[38;5;241m=\u001b[39m LogisticRegressionWithThreshold()\n\u001b[0;32m      2\u001b[0m lrt\u001b[38;5;241m.\u001b[39mfit(x_train, y_train)\n\u001b[1;32m----> 4\u001b[0m threshold, max_accuracy, df_accuracy \u001b[38;5;241m=\u001b[39m \u001b[43mlrt\u001b[49m\u001b[38;5;241;43m.\u001b[39;49m\u001b[43mthreshold_from_optimal_accuracy\u001b[49m(x_train, y_train)\n\u001b[0;32m      5\u001b[0m y_pred \u001b[38;5;241m=\u001b[39m lrt\u001b[38;5;241m.\u001b[39mpredict(x_train, threshold)\n\u001b[0;32m      7\u001b[0m threshold, max_accuracy\n",
      "\u001b[1;31mAttributeError\u001b[0m: 'LogisticRegressionWithThreshold' object has no attribute 'threshold_from_optimal_accuracy'"
     ]
    }
   ],
   "source": [
    "lrt = LogisticRegressionWithThreshold()\n",
    "lrt.fit(x_train, y_train)\n",
    "\n",
    "threshold, max_accuracy, df_accuracy = lrt.threshold_from_optimal_accuracy(x_train, y_train)\n",
    "y_pred = lrt.predict(x_train, threshold)\n",
    "\n",
    "threshold, max_accuracy"
   ]
  },
  {
   "cell_type": "code",
   "execution_count": null,
   "id": "b268c460",
   "metadata": {},
   "outputs": [],
   "source": []
  },
  {
   "cell_type": "code",
   "execution_count": null,
   "id": "d2b30897",
   "metadata": {},
   "outputs": [],
   "source": []
  },
  {
   "cell_type": "code",
   "execution_count": null,
   "id": "e0ee7dd4",
   "metadata": {},
   "outputs": [],
   "source": []
  },
  {
   "cell_type": "code",
   "execution_count": null,
   "id": "07de0f2a",
   "metadata": {},
   "outputs": [],
   "source": [
    "\n",
    "import pickle\n",
    "import json\n",
    "import pandas as pd \n",
    "import numpy as np\n",
    "import config \n",
    "\n",
    "class Diabetis():\n",
    "    def __init__(self,Pregnancies,Glucose,BloodPressure,SkinThickness,Insulin,BMI,DiabetesPedigreeFunction,Age):\n",
    "        self.Pregnancies=Pregnancies\n",
    "        self.Glucose=Glucose\n",
    "        self.BloodPressure=BloodPressure\n",
    "        self.SkinThickness=SkinThickness\n",
    "        self.Insulin=Insulin\n",
    "        self.BMI=BMI\n",
    "        self.DiabetesPedigreeFunction=DiabetesPedigreeFunction\n",
    "        self.Age=Age\n",
    "\n",
    "        \n",
    "\n",
    "    def load_model(self):\n",
    "        with open(config.Model_file_path,\"rb\") as f:\n",
    "            self.model=pickle.load(f)\n",
    "\n",
    "        with open(config.Json_file_path,\"r\") as f:\n",
    "            self.json_data=json.load(f)\n",
    "\n",
    "    def predict_diabetis(self):\n",
    "        self.load_model()\n",
    "\n",
    "        len(self.json_data[\"columns\"])\n",
    "\n",
    "        array = np.zeros(len(self.json_data[\"columns\"]))\n",
    "        array[0] = self.Pregnancies\n",
    "        array[1] = self.Glucose\n",
    "        array[2] = self.BloodPressure\n",
    "        array[3] = self.SkinThickness\n",
    "        array[4] = self.Insulin\n",
    "        array[5] = self.BMI\n",
    "        array[6] = self.DiabetesPedigreeFunction\n",
    "        array[7] = self.Age\n",
    "\n",
    "        print(\"test array ---\",array)\n",
    "        predict_patient =self.model.predict([array])[0]\n",
    "        if predict_patient == 1 :\n",
    "                print(\"You are Diabetis patient,Take proper treatment and get recover soon\")\n",
    "        else:\n",
    "                print(\"You dont have diabetis ...Enjoy your life\")\n",
    "        \n",
    "if __name__ == \"__main__\":\n",
    "    Pregnancies=7.000\n",
    "    Glucose=142.000\n",
    "    BloodPressure=60.000\n",
    "    SkinThickness=33.000\n",
    "    Insulin=190.000\n",
    "    BMI=28.800\n",
    "    DiabetesPedigreeFunction=0.687\n",
    "    Age=61.000\n",
    "\n",
    "\n",
    "    dia = Diabetis(Pregnancies,Glucose,BloodPressure,SkinThickness,Insulin,BMI,DiabetesPedigreeFunction,Age)\n",
    "    predict_patient=dia.predict_diabetis()\n",
    "    # if predict_patient == 1 :\n",
    "    #             print(\"You are Diabetis patient,Take proper treatment and get recover soon\")\n",
    "    # else:\n",
    "    #             print(\"You dont have diabetis ...Enjoy your life\")"
   ]
  },
  {
   "cell_type": "code",
   "execution_count": null,
   "id": "e3c2c03a",
   "metadata": {},
   "outputs": [],
   "source": [
    "\n",
    "from flask import Flask, jsonify, render_template, request\n",
    "from model.utils import Diabetis\n",
    "from distutils.command.config import config\n",
    "import config\n",
    "\n",
    "app = Flask(__name__)\n",
    "\n",
    "@app.route('/')\n",
    "def hello_flask():\n",
    "    print(\"********  Your Health  Our Responsibility  *********\")\n",
    "    return render_template(\"index.html\")\n",
    "\n",
    "@app.route('/predict_diabetes', methods = [\"POST\", \"GET\"])\n",
    "def predict_diabetis():\n",
    "\n",
    "    if request.method == \"GET\":\n",
    "        print(\"We are using GET Method\")\n",
    "       \n",
    "        \n",
    "        Pregnancies = eval(request.args.get(\"Pregnancies\"))\n",
    "        Glucose = eval(request.args.get(\"Glucose\"))\n",
    "        BloodPressure = eval(request.args.get(\"BloodPressure\"))\n",
    "        SkinThickness = eval(request.args.get(\"SkinThickness\"))\n",
    "        Insulin = eval(request.args.get(\"Insulin\"))\n",
    "        BMI = eval(request.args.get(\"BMI\"))\n",
    "        DiabetesPedigreeFunction = eval(request.args.get(\"DiabetesPedigreeFunction\"))\n",
    "        Age = eval(request.args.get(\"Age\"))\n",
    "        \n",
    "\n",
    "\n",
    "        dia = Diabetis(Pregnancies,Glucose,BloodPressure,SkinThickness,Insulin,BMI,DiabetesPedigreeFunction,Age)\n",
    "        predict_patient=dia.predict_diabetis()\n",
    "        # if predict_patient == 1 :\n",
    "        #         print(\"You are Diabetis patient,Take proper treatment and get recover soon\")\n",
    "        # else:\n",
    "        #         print(\"You dont have diabetis ...Enjoy your life\"\n",
    "        \n",
    "\n",
    "        # return render_template(\"index.html\", prediction = predict_patient)\n",
    "        if predict_patient == 1:\n",
    "                return render_template(\"index.html\", prediction = \"You are Diabetis patient,Take proper treatment and get recover soon\")\n",
    "        else:\n",
    "                return render_template(\"index.html\", prediction = \"You dont have diabetis ...Enjoy your life...\")\n",
    "\n",
    "    else:\n",
    "        print(\"We are using POST Method\")\n",
    "\n",
    "        Pregnancies = eval(request.form.get(\"Pregnancies\"))\n",
    "        Glucose = eval(request.form.get(\"Glucose\"))\n",
    "        BloodPressure = eval(request.form.get(\"BloodPressure\"))\n",
    "        SkinThickness = eval(request.form.get(\"SkinThickness\"))\n",
    "        Insulin = eval(request.form.get(\"Insulin\"))\n",
    "        BMI = eval(request.args.get(\"BMI\"))\n",
    "        DiabetesPedigreeFunction = eval(request.form.get(\"DiabetesPedigreeFunction\"))\n",
    "        Age = eval(request.form.get(\"Age\"))\n",
    "\n",
    "\n",
    "        dia = Diabetis(Pregnancies,Glucose,BloodPressure,SkinThickness,Insulin,BMI,DiabetesPedigreeFunction,Age)\n",
    "        predict_patient=dia.predict_diabetis()\n",
    "\n",
    "        # return render_template(\"index.html\", prediction = predict_patient)\n",
    "        if predict_patient == 1:\n",
    "                return render_template(\"index.html\", prediction = \"You are Diabetis patient,Take proper treatment and get recover soon\")\n",
    "        else:\n",
    "                return render_template(\"index.html\", prediction = \"You dont have diabetis ...Enjoy your life...\")\n",
    "\n",
    "    \n",
    "\n",
    "\n",
    "if __name__ == \"__main__\":\n",
    "    app.run(host='0.0.0.0' , port= 7555, debug=True)"
   ]
  },
  {
   "cell_type": "code",
   "execution_count": null,
   "id": "80a8e461",
   "metadata": {},
   "outputs": [],
   "source": []
  },
  {
   "cell_type": "code",
   "execution_count": null,
   "id": "f9475cd6",
   "metadata": {},
   "outputs": [],
   "source": []
  },
  {
   "cell_type": "code",
   "execution_count": null,
   "id": "3343abce",
   "metadata": {},
   "outputs": [],
   "source": []
  }
 ],
 "metadata": {
  "kernelspec": {
   "display_name": "Python 3 (ipykernel)",
   "language": "python",
   "name": "python3"
  },
  "language_info": {
   "codemirror_mode": {
    "name": "ipython",
    "version": 3
   },
   "file_extension": ".py",
   "mimetype": "text/x-python",
   "name": "python",
   "nbconvert_exporter": "python",
   "pygments_lexer": "ipython3",
   "version": "3.9.12"
  }
 },
 "nbformat": 4,
 "nbformat_minor": 5
}
